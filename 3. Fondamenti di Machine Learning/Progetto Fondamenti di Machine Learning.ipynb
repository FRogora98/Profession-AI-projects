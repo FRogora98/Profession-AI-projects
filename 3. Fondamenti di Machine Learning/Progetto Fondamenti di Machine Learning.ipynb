{
 "cells": [
  {
   "cell_type": "code",
   "execution_count": null,
   "metadata": {},
   "outputs": [],
   "source": [
    "import pandas as pd\n",
    "import numpy as np\n",
    "from sklearn.model_selection import train_test_split, cross_val_score\n",
    "from sklearn.linear_model import Ridge, Lasso, ElasticNet\n",
    "from sklearn.preprocessing import StandardScaler, OneHotEncoder\n",
    "from sklearn.compose import ColumnTransformer\n",
    "from sklearn.pipeline import Pipeline\n",
    "from sklearn.metrics import mean_squared_error\n",
    "import matplotlib.pyplot as plt\n",
    "import seaborn as sns\n"
   ]
  },
  {
   "cell_type": "code",
   "execution_count": null,
   "metadata": {},
   "outputs": [],
   "source": [
    "url = \"https://proai-datasets.s3.eu-west-3.amazonaws.com/housing.csv\"\n",
    "data = pd.read_csv(url)\n",
    "data.head()\n"
   ]
  },
  {
   "cell_type": "code",
   "execution_count": null,
   "metadata": {},
   "outputs": [],
   "source": [
    "data.isnull().sum()\n",
    "data.fillna(data.median(), inplace=True)\n"
   ]
  },
  {
   "cell_type": "code",
   "execution_count": null,
   "metadata": {},
   "outputs": [],
   "source": [
    "categorical_features = ['furnishingstatus']\n",
    "binary_features = ['mainroad', 'guestroom', 'basement', 'hotwaterheating', 'airconditioning', 'prefarea']\n",
    "numerical_features = ['area', 'bedrooms', 'bathrooms', 'stories', 'parking']\n",
    "\n",
    "preprocessor = ColumnTransformer(\n",
    "    transformers=[\n",
    "        ('num', StandardScaler(), numerical_features),\n",
    "        ('cat', OneHotEncoder(drop='first'), categorical_features)\n",
    "    ], remainder='passthrough')\n"
   ]
  },
  {
   "cell_type": "code",
   "execution_count": null,
   "metadata": {},
   "outputs": [],
   "source": [
    "X = data.drop(columns=['price'])\n",
    "y = data['price']\n",
    "X_train, X_test, y_train, y_test = train_test_split(X, y, test_size=0.2, random_state=42)\n"
   ]
  },
  {
   "cell_type": "code",
   "execution_count": null,
   "metadata": {},
   "outputs": [],
   "source": [
    "ridge_pipeline = Pipeline(steps=[('preprocessor', preprocessor),\n",
    "                                 ('regressor', Ridge(alpha=1.0))])\n",
    "\n",
    "lasso_pipeline = Pipeline(steps=[('preprocessor', preprocessor),\n",
    "                                 ('regressor', Lasso(alpha=0.1))])\n",
    "\n",
    "elastic_net_pipeline = Pipeline(steps=[('preprocessor', preprocessor),\n",
    "                                       ('regressor', ElasticNet(alpha=0.1, l1_ratio=0.5))])\n"
   ]
  },
  {
   "cell_type": "code",
   "execution_count": null,
   "metadata": {},
   "outputs": [],
   "source": [
    "ridge_pipeline.fit(X_train, y_train)\n",
    "lasso_pipeline.fit(X_train, y_train)\n",
    "elastic_net_pipeline.fit(X_train, y_train)\n"
   ]
  },
  {
   "cell_type": "code",
   "execution_count": null,
   "metadata": {},
   "outputs": [],
   "source": [
    "ridge_mse = mean_squared_error(y_test, ridge_pipeline.predict(X_test))\n",
    "lasso_mse = mean_squared_error(y_test, lasso_pipeline.predict(X_test))\n",
    "elastic_net_mse = mean_squared_error(y_test, elastic_net_pipeline.predict(X_test))\n",
    "\n",
    "print(f\"Ridge MSE: {ridge_mse}\")\n",
    "print(f\"Lasso MSE: {lasso_mse}\")\n",
    "print(f\"Elastic Net MSE: {elastic_net_mse}\")\n"
   ]
  },
  {
   "cell_type": "code",
   "execution_count": null,
   "metadata": {},
   "outputs": [],
   "source": [
    "ridge_coefs = ridge_pipeline.named_steps['regressor'].coef_\n",
    "lasso_coefs = lasso_pipeline.named_steps['regressor'].coef_\n",
    "elastic_net_coefs = elastic_net_pipeline.named_steps['regressor'].coef_\n",
    "\n",
    "print(f\"Ridge non-zero coefficients: {np.sum(ridge_coefs != 0)}\")\n",
    "print(f\"Lasso non-zero coefficients: {np.sum(lasso_coefs != 0)}\")\n",
    "print(f\"Elastic Net non-zero coefficients: {np.sum(elastic_net_coefs != 0)}\")\n"
   ]
  },
  {
   "cell_type": "code",
   "execution_count": null,
   "metadata": {},
   "outputs": [],
   "source": [
    "residuals_ridge = y_test - ridge_pipeline.predict(X_test)\n",
    "residuals_lasso = y_test - lasso_pipeline.predict(X_test)\n",
    "residuals_elastic_net = y_test - elastic_net_pipeline.predict(X_test)\n",
    "\n",
    "plt.figure(figsize=(15, 5))\n",
    "plt.subplot(1, 3, 1)\n",
    "sns.histplot(residuals_ridge, kde=True)\n",
    "plt.title(\"Ridge Residuals\")\n",
    "\n",
    "plt.subplot(1, 3, 2)\n",
    "sns.histplot(residuals_lasso, kde=True)\n",
    "plt.title(\"Lasso Residuals\")\n",
    "\n",
    "plt.subplot(1, 3, 3)\n",
    "sns.histplot(residuals_elastic_net, kde=True)\n",
    "plt.title(\"Elastic Net Residuals\")\n",
    "plt.show()\n"
   ]
  },
  {
   "cell_type": "code",
   "execution_count": null,
   "metadata": {},
   "outputs": [],
   "source": [
    "alphas = np.logspace(-4, 4, 100)\n",
    "ridge_coefs = []\n",
    "lasso_coefs = []\n",
    "elastic_net_coefs = []\n",
    "\n",
    "for alpha in alphas:\n",
    "    ridge = Ridge(alpha=alpha).fit(X_train, y_train)\n",
    "    ridge_coefs.append(ridge.coef_)\n",
    "\n",
    "    lasso = Lasso(alpha=alpha).fit(X_train, y_train)\n",
    "    lasso_coefs.append(lasso.coef_)\n",
    "\n",
    "    elastic_net = ElasticNet(alpha=alpha, l1_ratio=0.5).fit(X_train, y_train)\n",
    "    elastic_net_coefs.append(elastic_net.coef_)\n",
    "\n",
    "plt.figure(figsize=(15, 5))\n",
    "plt.subplot(1, 3, 1)\n",
    "plt.plot(alphas, ridge_coefs)\n",
    "plt.xscale('log')\n",
    "plt.title(\"Ridge Coefficients\")\n",
    "\n",
    "plt.subplot(1, 3, 2)\n",
    "plt.plot(alphas, lasso_coefs)\n",
    "plt.xscale('log')\n",
    "plt.title(\"Lasso Coefficients\")\n",
    "\n",
    "plt.subplot(1, 3, 3)\n",
    "plt.plot(alphas, elastic_net_coefs)\n",
    "plt.xscale('log')\n",
    "plt.title(\"Elastic Net Coefficients\")\n",
    "plt.show()\n"
   ]
  }
 ],
 "metadata": {
  "kernelspec": {
   "display_name": "Python 3",
   "language": "python",
   "name": "python3"
  },
  "language_info": {
   "codemirror_mode": {
    "name": "ipython",
    "version": 3
   },
   "file_extension": ".py",
   "mimetype": "text/x-python",
   "name": "python",
   "nbconvert_exporter": "python",
   "pygments_lexer": "ipython3",
   "version": "3.12.4"
  }
 },
 "nbformat": 4,
 "nbformat_minor": 2
}
