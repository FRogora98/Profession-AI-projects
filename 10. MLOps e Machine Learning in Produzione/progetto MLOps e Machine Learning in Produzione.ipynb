{
 "cells": [
  {
   "cell_type": "code",
   "execution_count": null,
   "metadata": {
    "vscode": {
     "languageId": "plaintext"
    }
   },
   "outputs": [],
   "source": [
    "import pandas as pd\n",
    "import numpy as np\n",
    "import matplotlib.pyplot as plt\n",
    "from transformers import AutoTokenizer, AutoModelForSequenceClassification, pipeline\n",
    "from sklearn.metrics import classification_report, confusion_matrix\n",
    "import seaborn as sns\n",
    "import torch\n",
    "import kagglehub\n",
    "import os"
   ]
  },
  {
   "cell_type": "code",
   "execution_count": null,
   "metadata": {
    "vscode": {
     "languageId": "plaintext"
    }
   },
   "outputs": [],
   "source": [
    "path = kagglehub.dataset_download(\"crowdflower/twitter-airline-sentiment\")\n",
    "print(\"Path to dataset files:\", path)\n",
    "\n",
    "csv_path = os.path.join(path, \"Tweets.csv\")\n",
    "df = pd.read_csv(csv_path)\n",
    "df = df[['text', 'airline_sentiment']]\n",
    "df = df.rename(columns={'airline_sentiment': 'sentiment'})\n",
    "df = df.dropna()\n",
    "df = df.sample(1000, random_state=42)\n",
    "df.head()"
   ]
  },
  {
   "cell_type": "code",
   "execution_count": null,
   "metadata": {
    "vscode": {
     "languageId": "plaintext"
    }
   },
   "outputs": [],
   "source": [
    "def preprocess(text):\n",
    "    text = text.lower()\n",
    "    text = text.replace('\\n', ' ')\n",
    "    return text\n",
    "\n",
    "df['text_clean'] = df['text'].apply(preprocess)"
   ]
  },
  {
   "cell_type": "code",
   "execution_count": null,
   "metadata": {
    "vscode": {
     "languageId": "plaintext"
    }
   },
   "outputs": [],
   "source": [
    "model_name = \"cardiffnlp/twitter-roberta-base-sentiment-latest\"\n",
    "tokenizer = AutoTokenizer.from_pretrained(model_name)\n",
    "model = AutoModelForSequenceClassification.from_pretrained(model_name)\n",
    "sentiment_pipe = pipeline(\"sentiment-analysis\", model=model, tokenizer=tokenizer)"
   ]
  },
  {
   "cell_type": "code",
   "execution_count": null,
   "metadata": {
    "vscode": {
     "languageId": "plaintext"
    }
   },
   "outputs": [],
   "source": [
    "results = sentiment_pipe(list(df['text_clean'][:20]))\n",
    "for text, res in zip(df['text_clean'][:20], results):\n",
    "    print(f\"Testo: {text}\\nSentiment: {res}\\n\")"
   ]
  },
  {
   "cell_type": "code",
   "execution_count": null,
   "metadata": {
    "vscode": {
     "languageId": "plaintext"
    }
   },
   "outputs": [],
   "source": [
    "df['predicted_sentiment'] = [r['label'] for r in sentiment_pipe(list(df['text_clean']))]\n",
    "df.head()"
   ]
  },
  {
   "cell_type": "code",
   "execution_count": null,
   "metadata": {
    "vscode": {
     "languageId": "plaintext"
    }
   },
   "outputs": [],
   "source": [
    "label_map = {\n",
    "    'positive': 'positive',\n",
    "    'neutral': 'neutral',\n",
    "    'negative': 'negative',\n",
    "    'LABEL_0': 'negative',\n",
    "    'LABEL_1': 'neutral',\n",
    "    'LABEL_2': 'positive'\n",
    "}\n",
    "df['predicted_sentiment'] = df['predicted_sentiment'].map(label_map)\n",
    "df['sentiment'] = df['sentiment'].map(label_map)"
   ]
  },
  {
   "cell_type": "code",
   "execution_count": null,
   "metadata": {
    "vscode": {
     "languageId": "plaintext"
    }
   },
   "outputs": [],
   "source": [
    "print(classification_report(df['sentiment'], df['predicted_sentiment']))\n",
    "cm = confusion_matrix(df['sentiment'], df['predicted_sentiment'], labels=['positive', 'neutral', 'negative'])\n",
    "sns.heatmap(cm, annot=True, fmt='d', xticklabels=['positive', 'neutral', 'negative'], yticklabels=['positive', 'neutral', 'negative'])\n",
    "plt.xlabel('Predicted')\n",
    "plt.ylabel('True')\n",
    "plt.show()"
   ]
  },
  {
   "cell_type": "code",
   "execution_count": null,
   "metadata": {
    "vscode": {
     "languageId": "plaintext"
    }
   },
   "outputs": [],
   "source": [
    "df['timestamp'] = pd.date_range(start='2023-01-01', periods=len(df), freq='H')\n",
    "df['sentiment_score'] = df['predicted_sentiment'].map({'positive': 1, 'neutral': 0, 'negative': -1})\n",
    "\n",
    "df.set_index('timestamp', inplace=True)\n",
    "df['sentiment_score'].rolling(window=24).mean().plot(figsize=(12,4))\n",
    "plt.title('Andamento del sentiment (media mobile 24h)')\n",
    "plt.show()"
   ]
  },
  {
   "cell_type": "code",
   "execution_count": null,
   "metadata": {
    "vscode": {
     "languageId": "plaintext"
    }
   },
   "outputs": [],
   "source": [
    "df['timestamp'] = pd.date_range(start='2023-01-01', periods=len(df), freq='H')\n",
    "df['sentiment_score'] = df['predicted_sentiment'].map({'positive': 1, 'neutral': 0, 'negative': -1})\n",
    "\n",
    "df.set_index('timestamp', inplace=True)\n",
    "df['sentiment_score'].rolling(window=24).mean().plot(figsize=(12,4))\n",
    "plt.title('Andamento del sentiment (media mobile 24h)')\n",
    "plt.show()"
   ]
  },
  {
   "cell_type": "code",
   "execution_count": null,
   "metadata": {
    "vscode": {
     "languageId": "plaintext"
    }
   },
   "outputs": [],
   "source": [
    "accuracy = (df['sentiment'] == df['predicted_sentiment']).mean()\n",
    "if accuracy < 0.8:\n",
    "    print(\"Trigger retraining: accuracy bassa, avviare retraining automatico!\")\n",
    "else:\n",
    "    print(\"Accuracy soddisfacente, nessun retraining necessario.\")"
   ]
  },
  {
   "cell_type": "code",
   "execution_count": null,
   "metadata": {
    "vscode": {
     "languageId": "plaintext"
    }
   },
   "outputs": [],
   "source": [
    "# Pipeline CI/CD (Schema)\n",
    "#- **Step 1:** Push su GitHub attiva workflow GitHub Actions\n",
    "#- **Step 2:** Esegui test unitari e di integrazione (es. pytest)\n",
    "#- **Step 3:** Esegui training/retraining del modello (script Python)\n",
    "#- **Step 4:** Deploy automatico su HuggingFace o altro servizio cloud\n",
    "#- **Step 5:** Monitoraggio automatico delle performance (alert se accuracy scende)"
   ]
  },
  {
   "cell_type": "code",
   "execution_count": null,
   "metadata": {
    "vscode": {
     "languageId": "plaintext"
    }
   },
   "outputs": [],
   "source": [
    "# Conclusioni\n",
    "#- Il sistema automatizza l’analisi del sentiment e il monitoraggio della reputazione aziendale.\n",
    "#- L’integrazione MLOps consente retraining e deploy automatici, garantendo adattabilità e scalabilità.\n",
    "#- Il monitoraggio continuo permette di reagire rapidamente a cambiamenti nel sentiment degli utenti.\n",
    "\n",
    "# Documentazione\n",
    "#- Tutto il codice è documentato e pronto per essere integrato in una pipeline CI/CD.\n",
    "#- Per deploy su HuggingFace, consulta la [guida ufficiale](https://huggingface.co/docs/hub/spaces-sdks-docker)."
   ]
  }
 ],
 "metadata": {
  "language_info": {
   "name": "python"
  }
 },
 "nbformat": 4,
 "nbformat_minor": 2
}
