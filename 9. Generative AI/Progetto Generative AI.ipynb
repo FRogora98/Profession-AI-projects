{
 "cells": [
  {
   "cell_type": "code",
   "execution_count": null,
   "metadata": {
    "vscode": {
     "languageId": "plaintext"
    }
   },
   "outputs": [],
   "source": [
    "import torch\n",
    "from torchvision import datasets, transforms, models\n",
    "from torch.utils.data import DataLoader, ConcatDataset\n",
    "import matplotlib.pyplot as plt\n",
    "import random\n",
    "from PIL import Image\n",
    "from tqdm import tqdm\n",
    "import numpy as np\n",
    "\n",
    "from transformers import BlipProcessor, BlipForConditionalGeneration, pipeline"
   ]
  },
  {
   "cell_type": "code",
   "execution_count": null,
   "metadata": {
    "vscode": {
     "languageId": "plaintext"
    }
   },
   "outputs": [],
   "source": [
    "data_dir = './data'\n",
    "\n",
    "train_dataset_pil = datasets.OxfordIIITPet(\n",
    "    root=data_dir, split='trainval', download=True,\n",
    "    transform=None, target_types='category'\n",
    ")\n",
    "\n",
    "test_dataset_pil = datasets.OxfordIIITPet(\n",
    "    root=data_dir, split='test', download=True,\n",
    "    transform=None, target_types='category'\n",
    ")"
   ]
  },
  {
   "cell_type": "code",
   "execution_count": null,
   "metadata": {
    "vscode": {
     "languageId": "plaintext"
    }
   },
   "outputs": [],
   "source": [
    "def show_images(dataset, n=5):\n",
    "    fig, axs = plt.subplots(1, n, figsize=(15, 5))\n",
    "    for i in range(n):\n",
    "        img, label = dataset[random.randint(0, len(dataset)-1)]\n",
    "        axs[i].imshow(img)\n",
    "        axs[i].set_title(f\"Label: {label}\")\n",
    "        axs[i].axis('off')\n",
    "    plt.show()\n",
    "\n",
    "show_images(train_dataset_pil)"
   ]
  },
  {
   "cell_type": "code",
   "execution_count": null,
   "metadata": {
    "vscode": {
     "languageId": "plaintext"
    }
   },
   "outputs": [],
   "source": [
    "aug_transforms = transforms.Compose([\n",
    "    transforms.RandomResizedCrop(224),\n",
    "    transforms.RandomHorizontalFlip(),\n",
    "    transforms.ColorJitter(brightness=0.3, contrast=0.3, saturation=0.3),\n",
    "    transforms.RandomRotation(20),\n",
    "    transforms.ToTensor()\n",
    "])\n",
    "\n",
    "augmented_imgs = [aug_transforms(train_dataset_pil[i][0]) for i in range(5)]\n",
    "\n",
    "fig, axs = plt.subplots(1, 5, figsize=(15, 5))\n",
    "for i, img in enumerate(augmented_imgs):\n",
    "    axs[i].imshow(img.permute(1,2,0))\n",
    "    axs[i].axis('off')\n",
    "plt.suptitle(\"Esempi di Data Augmentation\")\n",
    "plt.show()"
   ]
  },
  {
   "cell_type": "code",
   "execution_count": null,
   "metadata": {
    "vscode": {
     "languageId": "plaintext"
    }
   },
   "outputs": [],
   "source": [
    "processor = BlipProcessor.from_pretrained(\"Salesforce/blip-image-captioning-base\")\n",
    "blip_model = BlipForConditionalGeneration.from_pretrained(\"Salesforce/blip-image-captioning-base\")\n",
    "\n",
    "def generate_caption(image):\n",
    "    inputs = processor(image, return_tensors=\"pt\")\n",
    "    out = blip_model.generate(**inputs)\n",
    "    caption = processor.decode(out[0], skip_special_tokens=True)\n",
    "    return caption\n",
    "\n",
    "for i in range(3):\n",
    "    img, _ = train_dataset_pil[i]\n",
    "    caption = generate_caption(img)\n",
    "    print(f\"Caption {i+1}: {caption}\")"
   ]
  },
  {
   "cell_type": "code",
   "execution_count": null,
   "metadata": {
    "vscode": {
     "languageId": "plaintext"
    }
   },
   "outputs": [],
   "source": [
    "text_gen = pipeline(\"text2text-generation\", model=\"google/flan-t5-small\")\n",
    "\n",
    "def generate_text_variants(caption, n=3):\n",
    "    prompts = [f\"Riscrivi la seguente descrizione in modo diverso: {caption}\" for _ in range(n)]\n",
    "    variants = [text_gen(prompt, max_length=50)[0]['generated_text'] for prompt in prompts]\n",
    "    return variants\n",
    "\n",
    "caption = generate_caption(train_dataset_pil[0][0])\n",
    "variants = generate_text_variants(caption)\n",
    "print(\"Caption originale:\", caption)\n",
    "print(\"Varianti:\", variants)"
   ]
  },
  {
   "cell_type": "code",
   "execution_count": null,
   "metadata": {
    "vscode": {
     "languageId": "plaintext"
    }
   },
   "outputs": [],
   "source": [
    "print(\"Qui si genererebbero immagini sintetiche a partire dalle caption variate (richiede API o modelli esterni).\")"
   ]
  },
  {
   "cell_type": "code",
   "execution_count": null,
   "metadata": {
    "vscode": {
     "languageId": "plaintext"
    }
   },
   "outputs": [],
   "source": [
    "augmented_dataset = []\n",
    "for i in range(100):\n",
    "    img, label = train_dataset_pil[i]\n",
    "    aug_img = aug_transforms(img)\n",
    "    augmented_dataset.append((aug_img, label))\n",
    "\n",
    "class TensorDataset(torch.utils.data.Dataset):\n",
    "    def __init__(self, tensor_tuples):\n",
    "        self.data = tensor_tuples\n",
    "    def __len__(self):\n",
    "        return len(self.data)\n",
    "    def __getitem__(self, idx):\n",
    "        return self.data[idx]\n",
    "\n",
    "train_transform = transforms.Compose([\n",
    "    transforms.Resize((224, 224)),\n",
    "    transforms.ToTensor()\n",
    "])\n",
    "train_dataset_tensor = datasets.OxfordIIITPet(\n",
    "    root=data_dir, split='trainval', download=True,\n",
    "    transform=train_transform, target_types='category'\n",
    ")\n",
    "\n",
    "extended_train_dataset = ConcatDataset([\n",
    "    train_dataset_tensor,\n",
    "    TensorDataset(augmented_dataset)\n",
    "])"
   ]
  },
  {
   "cell_type": "code",
   "execution_count": null,
   "metadata": {
    "vscode": {
     "languageId": "plaintext"
    }
   },
   "outputs": [],
   "source": [
    "batch_size = 32\n",
    "\n",
    "train_loader = DataLoader(train_dataset_tensor, batch_size=batch_size, shuffle=True)\n",
    "extended_train_loader = DataLoader(extended_train_dataset, batch_size=batch_size, shuffle=True)\n",
    "\n",
    "test_transform = transforms.Compose([\n",
    "    transforms.Resize((224, 224)),\n",
    "    transforms.ToTensor()\n",
    "])\n",
    "test_dataset = datasets.OxfordIIITPet(\n",
    "    root=data_dir, split='test', download=True,\n",
    "    transform=test_transform, target_types='category'\n",
    ")\n",
    "test_loader = DataLoader(test_dataset, batch_size=batch_size, shuffle=False)"
   ]
  },
  {
   "cell_type": "code",
   "execution_count": null,
   "metadata": {
    "vscode": {
     "languageId": "plaintext"
    }
   },
   "outputs": [],
   "source": [
    "device = torch.device(\"cuda\" if torch.cuda.is_available() else \"cpu\")\n",
    "model = models.resnet18(pretrained=True)\n",
    "model.fc = torch.nn.Linear(model.fc.in_features, 37)\n",
    "model = model.to(device)"
   ]
  },
  {
   "cell_type": "code",
   "execution_count": null,
   "metadata": {
    "vscode": {
     "languageId": "plaintext"
    }
   },
   "outputs": [],
   "source": [
    "criterion = torch.nn.CrossEntropyLoss()\n",
    "optimizer = torch.optim.Adam(model.parameters(), lr=1e-3)"
   ]
  },
  {
   "cell_type": "code",
   "execution_count": null,
   "metadata": {
    "vscode": {
     "languageId": "plaintext"
    }
   },
   "outputs": [],
   "source": [
    "def train_one_epoch(model, loader, criterion, optimizer, device):\n",
    "    model.train()\n",
    "    running_loss = 0.0\n",
    "    for images, labels in loader:\n",
    "        images, labels = images.to(device), labels.to(device)\n",
    "        optimizer.zero_grad()\n",
    "        outputs = model(images)\n",
    "        loss = criterion(outputs, labels)\n",
    "        loss.backward()\n",
    "        optimizer.step()\n",
    "        running_loss += loss.item() * images.size(0)\n",
    "    return running_loss / len(loader.dataset)"
   ]
  },
  {
   "cell_type": "code",
   "execution_count": null,
   "metadata": {
    "vscode": {
     "languageId": "plaintext"
    }
   },
   "outputs": [],
   "source": [
    "def evaluate(model, loader, device):\n",
    "    model.eval()\n",
    "    correct = 0\n",
    "    total = 0\n",
    "    y_true, y_pred = [], []\n",
    "    with torch.no_grad():\n",
    "        for images, labels in loader:\n",
    "            images, labels = images.to(device), labels.to(device)\n",
    "            outputs = model(images)\n",
    "            _, predicted = torch.max(outputs, 1)\n",
    "            total += labels.size(0)\n",
    "            correct += (predicted == labels).sum().item()\n",
    "            y_true.extend(labels.cpu().numpy())\n",
    "            y_pred.extend(predicted.cpu().numpy())\n",
    "    accuracy = correct / total\n",
    "    from sklearn.metrics import precision_score, recall_score\n",
    "    precision = precision_score(y_true, y_pred, average='macro', zero_division=0)\n",
    "    recall = recall_score(y_true, y_pred, average='macro', zero_division=0)\n",
    "    print(f\"Accuracy: {accuracy:.3f}, Precision: {precision:.3f}, Recall: {recall:.3f}\")\n",
    "    return accuracy, precision, recall"
   ]
  },
  {
   "cell_type": "code",
   "execution_count": null,
   "metadata": {
    "vscode": {
     "languageId": "plaintext"
    }
   },
   "outputs": [],
   "source": [
    "print(\"Training su dataset originale...\")\n",
    "for epoch in range(1):\n",
    "    loss = train_one_epoch(model, train_loader, criterion, optimizer, device)\n",
    "    print(f\"Epoca {epoch+1}, Loss: {loss:.4f}\")\n",
    "\n",
    "print(\"Valutazione su dataset originale:\")\n",
    "evaluate(model, test_loader, device)"
   ]
  },
  {
   "cell_type": "code",
   "execution_count": null,
   "metadata": {
    "vscode": {
     "languageId": "plaintext"
    }
   },
   "outputs": [],
   "source": [
    "model = models.resnet18(pretrained=True)\n",
    "model.fc = torch.nn.Linear(model.fc.in_features, 37)\n",
    "model = model.to(device)\n",
    "optimizer = torch.optim.Adam(model.parameters(), lr=1e-3)\n",
    "\n",
    "print(\"Training su dataset esteso...\")\n",
    "for epoch in range(1):\n",
    "    loss = train_one_epoch(model, extended_train_loader, criterion, optimizer, device)\n",
    "    print(f\"Epoca {epoch+1}, Loss: {loss:.4f}\")\n",
    "\n",
    "print(\"Valutazione su dataset esteso:\")\n",
    "evaluate(model, test_loader, device)"
   ]
  }
 ],
 "metadata": {
  "language_info": {
   "name": "python"
  }
 },
 "nbformat": 4,
 "nbformat_minor": 2
}
