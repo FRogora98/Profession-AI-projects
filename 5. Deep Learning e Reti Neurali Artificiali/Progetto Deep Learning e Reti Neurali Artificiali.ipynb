{
 "cells": [
  {
   "cell_type": "code",
   "execution_count": null,
   "metadata": {
    "vscode": {
     "languageId": "plaintext"
    }
   },
   "outputs": [],
   "source": [
    "import numpy as np\n",
    "import matplotlib.pyplot as plt\n",
    "import seaborn as sns\n",
    "import tensorflow as tf\n",
    "from tensorflow.keras import layers, models\n",
    "from sklearn.metrics import classification_report, confusion_matrix"
   ]
  },
  {
   "cell_type": "code",
   "execution_count": null,
   "metadata": {
    "vscode": {
     "languageId": "plaintext"
    }
   },
   "outputs": [],
   "source": [
    "# Carica CIFAR-10\n",
    "(X_train, y_train), (X_test, y_test) = tf.keras.datasets.cifar10.load_data()\n",
    "\n",
    "# Classi di CIFAR-10\n",
    "class_names = ['airplane', 'automobile', 'bird', 'cat', 'deer', \n",
    "               'dog', 'frog', 'horse', 'ship', 'truck']\n",
    "\n",
    "# Seleziona solo animali e veicoli\n",
    "animal_classes = [2, 3, 4, 5, 6, 7]  # bird, cat, deer, dog, frog, horse\n",
    "vehicle_classes = [0, 1, 8, 9]       # airplane, automobile, ship, truck\n",
    "\n",
    "# Crea nuove etichette: 0=veicolo, 1=animale\n",
    "def filter_animals_vehicles(X, y):\n",
    "    idx_animals = np.isin(y, animal_classes).flatten()\n",
    "    idx_vehicles = np.isin(y, vehicle_classes).flatten()\n",
    "    idx = idx_animals | idx_vehicles\n",
    "    X = X[idx]\n",
    "    y = y[idx]\n",
    "    y_new = np.where(np.isin(y, animal_classes), 1, 0)\n",
    "    return X, y_new\n",
    "\n",
    "X_train_filt, y_train_filt = filter_animals_vehicles(X_train, y_train)\n",
    "X_test_filt, y_test_filt = filter_animals_vehicles(X_test, y_test)\n",
    "\n",
    "print(\"Train set shape:\", X_train_filt.shape)\n",
    "print(\"Test set shape:\", X_test_filt.shape)"
   ]
  },
  {
   "cell_type": "code",
   "execution_count": null,
   "metadata": {
    "vscode": {
     "languageId": "plaintext"
    }
   },
   "outputs": [],
   "source": [
    "plt.figure(figsize=(10,4))\n",
    "for i in range(10):\n",
    "    plt.subplot(2,5,i+1)\n",
    "    plt.imshow(X_train_filt[i])\n",
    "    plt.title(\"Animale\" if y_train_filt[i]==1 else \"Veicolo\")\n",
    "    plt.axis('off')\n",
    "plt.suptitle(\"Esempi dal dataset\")\n",
    "plt.show()"
   ]
  },
  {
   "cell_type": "code",
   "execution_count": null,
   "metadata": {
    "vscode": {
     "languageId": "plaintext"
    }
   },
   "outputs": [],
   "source": [
    "X_train_filt = X_train_filt.astype('float32') / 255.0\n",
    "X_test_filt = X_test_filt.astype('float32') / 255.0"
   ]
  },
  {
   "cell_type": "code",
   "execution_count": null,
   "metadata": {
    "vscode": {
     "languageId": "plaintext"
    }
   },
   "outputs": [],
   "source": [
    "model = models.Sequential([\n",
    "    layers.Conv2D(32, (3,3), activation='relu', input_shape=(32,32,3)),\n",
    "    layers.MaxPooling2D((2,2)),\n",
    "    layers.Conv2D(64, (3,3), activation='relu'),\n",
    "    layers.MaxPooling2D((2,2)),\n",
    "    layers.Conv2D(128, (3,3), activation='relu'),\n",
    "    layers.Flatten(),\n",
    "    layers.Dense(64, activation='relu'),\n",
    "    layers.Dense(1, activation='sigmoid')\n",
    "])\n",
    "\n",
    "model.compile(optimizer='adam',\n",
    "              loss='binary_crossentropy',\n",
    "              metrics=['accuracy'])\n",
    "\n",
    "history = model.fit(X_train_filt, y_train_filt, epochs=10, batch_size=64,\n",
    "                    validation_data=(X_test_filt, y_test_filt))"
   ]
  },
  {
   "cell_type": "code",
   "execution_count": null,
   "metadata": {
    "vscode": {
     "languageId": "plaintext"
    }
   },
   "outputs": [],
   "source": [
    "plt.plot(history.history['accuracy'], label='Train acc')\n",
    "plt.plot(history.history['val_accuracy'], label='Val acc')\n",
    "plt.xlabel('Epoch')\n",
    "plt.ylabel('Accuracy')\n",
    "plt.legend()\n",
    "plt.title('Andamento accuratezza')\n",
    "plt.show()"
   ]
  },
  {
   "cell_type": "code",
   "execution_count": null,
   "metadata": {
    "vscode": {
     "languageId": "plaintext"
    }
   },
   "outputs": [],
   "source": [
    "# Predizioni\n",
    "y_pred_prob = model.predict(X_test_filt)\n",
    "y_pred = (y_pred_prob > 0.5).astype(int).flatten()\n",
    "\n",
    "# Report e confusion matrix\n",
    "print(classification_report(y_test_filt, y_pred, target_names=['Veicolo', 'Animale']))\n",
    "\n",
    "cm = confusion_matrix(y_test_filt, y_pred)\n",
    "sns.heatmap(cm, annot=True, fmt='d', cmap='Blues', xticklabels=['Veicolo','Animale'], yticklabels=['Veicolo','Animale'])\n",
    "plt.xlabel('Predetto')\n",
    "plt.ylabel('Reale')\n",
    "plt.title('Matrice di confusione')\n",
    "plt.show()"
   ]
  },
  {
   "cell_type": "code",
   "execution_count": null,
   "metadata": {
    "vscode": {
     "languageId": "plaintext"
    }
   },
   "outputs": [],
   "source": [
    "# Trova immagini sbagliate\n",
    "wrong_idx = np.where(y_pred != y_test_filt)[0]\n",
    "plt.figure(figsize=(10,4))\n",
    "for i, idx in enumerate(wrong_idx[:10]):\n",
    "    plt.subplot(2,5,i+1)\n",
    "    plt.imshow(X_test_filt[idx])\n",
    "    plt.title(f\"V:{'Animale' if y_test_filt[idx]==1 else 'Veicolo'}\\nP:{'Animale' if y_pred[idx]==1 else 'Veicolo'}\")\n",
    "    plt.axis('off')\n",
    "plt.suptitle(\"Esempi di errori di classificazione\")\n",
    "plt.show()"
   ]
  }
 ],
 "metadata": {
  "language_info": {
   "name": "python"
  }
 },
 "nbformat": 4,
 "nbformat_minor": 2
}
