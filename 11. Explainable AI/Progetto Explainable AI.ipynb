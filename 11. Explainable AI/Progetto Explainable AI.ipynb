{
 "cells": [
  {
   "cell_type": "code",
   "execution_count": null,
   "metadata": {
    "vscode": {
     "languageId": "plaintext"
    }
   },
   "outputs": [],
   "source": [
    "import torch\n",
    "import torchvision\n",
    "import torchvision.transforms as transforms\n",
    "import matplotlib.pyplot as plt\n",
    "import numpy as np\n",
    "from torchvision import models\n",
    "from torch import nn"
   ]
  },
  {
   "cell_type": "code",
   "execution_count": null,
   "metadata": {
    "vscode": {
     "languageId": "plaintext"
    }
   },
   "outputs": [],
   "source": [
    "transform = transforms.Compose([\n",
    "    transforms.Grayscale(num_output_channels=3),\n",
    "    transforms.Resize((224, 224)),\n",
    "    transforms.ToTensor(),\n",
    "    transforms.Normalize([0.5]*3, [0.5]*3)\n",
    "])\n",
    "\n",
    "testset = torchvision.datasets.MNIST(root='./data', train=False, download=True, transform=transform)\n",
    "testloader = torch.utils.data.DataLoader(testset, batch_size=1, shuffle=True)"
   ]
  },
  {
   "cell_type": "code",
   "execution_count": null,
   "metadata": {
    "vscode": {
     "languageId": "plaintext"
    }
   },
   "outputs": [],
   "source": [
    "model = models.densenet121(pretrained=True)\n",
    "model.classifier = nn.Linear(model.classifier.in_features, 10)\n",
    "model.eval()"
   ]
  },
  {
   "cell_type": "code",
   "execution_count": null,
   "metadata": {
    "vscode": {
     "languageId": "plaintext"
    }
   },
   "outputs": [],
   "source": [
    "#!pip install captum\n",
    "\n",
    "import torch\n",
    "import matplotlib.pyplot as plt\n",
    "from captum.attr import LayerGradCam, LayerAttribution\n",
    "\n",
    "images, labels = next(iter(testloader))\n",
    "input_img = images\n",
    "label = labels.item()\n",
    "\n",
    "target_layer = model.features[-1]\n",
    "gradcam = LayerGradCam(model, target_layer)\n",
    "attributions = gradcam.attribute(input_img, target=label)\n",
    "upsampled_attr = LayerAttribution.interpolate(attributions, input_img.shape[2:])\n",
    "\n",
    "def show_saliency_on_image(img, saliency, title=\"\"):\n",
    "    img = img.squeeze().permute(1,2,0).detach().cpu().numpy()\n",
    "    img = (img * 0.5) + 0.5\n",
    "    saliency = saliency.squeeze().detach().cpu().numpy()\n",
    "    if saliency.ndim == 3:\n",
    "        saliency = saliency.mean(axis=0)\n",
    "    plt.figure(figsize=(8,4))\n",
    "    plt.subplot(1,2,1)\n",
    "    plt.imshow(img)\n",
    "    plt.title(\"Immagine originale\")\n",
    "    plt.axis('off')\n",
    "    plt.subplot(1,2,2)\n",
    "    plt.imshow(img, alpha=0.5)\n",
    "    plt.imshow(saliency, cmap='hot', alpha=0.5)\n",
    "    plt.title(title)\n",
    "    plt.axis('off')\n",
    "    plt.show()\n",
    "\n",
    "show_saliency_on_image(input_img, upsampled_attr, title=\"Grad-CAM\")"
   ]
  },
  {
   "cell_type": "code",
   "execution_count": null,
   "metadata": {
    "vscode": {
     "languageId": "plaintext"
    }
   },
   "outputs": [],
   "source": [
    "# 1. Downgrade numpy\n",
    "#!pip install numpy==1.23.5 --force-reinstall\n",
    "\n",
    "# 2. Reinstalla lime\n",
    "#!pip install lime --force-reinstall\n",
    "from lime import lime_image\n",
    "from skimage.segmentation import mark_boundaries\n",
    "\n",
    "def batch_predict(images):\n",
    "    model.eval()\n",
    "    batch = torch.stack([transform(transforms.ToPILImage()(img)) for img in images], dim=0)\n",
    "    logits = model(batch)\n",
    "    probs = torch.nn.functional.softmax(logits, dim=1)\n",
    "    return probs.detach().numpy()\n",
    "\n",
    "explainer = lime_image.LimeImageExplainer()\n",
    "img = input_img.squeeze().permute(1,2,0).numpy()\n",
    "explanation = explainer.explain_instance(img, batch_predict, top_labels=1, hide_color=0, num_samples=1000)\n",
    "temp, mask = explanation.get_image_and_mask(label, positive_only=True, num_features=5, hide_rest=False)\n",
    "plt.imshow(mark_boundaries(temp / 2 + 0.5, mask))\n",
    "plt.title(\"LIME\")\n",
    "plt.axis('off')\n",
    "plt.show()"
   ]
  },
  {
   "cell_type": "code",
   "execution_count": null,
   "metadata": {
    "vscode": {
     "languageId": "plaintext"
    }
   },
   "outputs": [],
   "source": [
    "from captum.attr import Occlusion\n",
    "\n",
    "occlusion = Occlusion(model)\n",
    "attr_occ = occlusion.attribute(\n",
    "    input_img,\n",
    "    strides=(3, 8, 8),\n",
    "    target=label,\n",
    "    sliding_window_shapes=(3, 15, 15)\n",
    ")\n",
    "\n",
    "show_saliency_on_image(input_img, attr_occ, title=\"Occlusion\")"
   ]
  },
  {
   "cell_type": "code",
   "execution_count": null,
   "metadata": {
    "vscode": {
     "languageId": "plaintext"
    }
   },
   "outputs": [],
   "source": [
    "print(\"MNIST: 70.000 immagini di cifre scritte a mano (0-9), 28x28 pixel, 1 canale (convertito a 3 per DenseNet).\")"
   ]
  },
  {
   "cell_type": "code",
   "execution_count": null,
   "metadata": {
    "vscode": {
     "languageId": "plaintext"
    }
   },
   "outputs": [],
   "source": [
    "for images, labels in testloader:\n",
    "    outputs = model(images)\n",
    "    _, preds = torch.max(outputs, 1)\n",
    "    if preds != labels:\n",
    "        print(f\"Errore: Predetto {preds.item()}, Reale {labels.item()}\")\n",
    "        break"
   ]
  },
  {
   "cell_type": "code",
   "execution_count": null,
   "metadata": {
    "vscode": {
     "languageId": "plaintext"
    }
   },
   "outputs": [],
   "source": [
    "def simple_rule_based_classifier(img):\n",
    "    img = img.squeeze().numpy()\n",
    "    if img.sum() < 100:\n",
    "        return 1\n",
    "    else:\n",
    "        return 0"
   ]
  },
  {
   "cell_type": "code",
   "execution_count": null,
   "metadata": {
    "vscode": {
     "languageId": "plaintext"
    }
   },
   "outputs": [],
   "source": [
    "errore_img = None\n",
    "errore_label = None\n",
    "errore_pred = None\n",
    "\n",
    "for images, labels in testloader:\n",
    "    with torch.no_grad():\n",
    "        outputs = model(images)\n",
    "        _, preds = torch.max(outputs, 1)\n",
    "        if preds != labels:\n",
    "            print(f\"Errore: Predetto {preds.item()}, Reale {labels.item()}\")\n",
    "            errore_img = images\n",
    "            errore_label = labels.item()\n",
    "            errore_pred = preds.item()\n",
    "            break"
   ]
  },
  {
   "cell_type": "code",
   "execution_count": null,
   "metadata": {
    "vscode": {
     "languageId": "plaintext"
    }
   },
   "outputs": [],
   "source": [
    "from torchvision import models\n",
    "from torch import nn\n",
    "from captum.attr import LayerGradCam, LayerAttribution, Occlusion\n",
    "\n",
    "model = models.densenet121(pretrained=True)\n",
    "model.classifier = nn.Linear(model.classifier.in_features, 10)\n",
    "model.eval()\n",
    "\n",
    "target_layer = model.features[-1]\n",
    "gradcam = LayerGradCam(model, target_layer)\n",
    "occlusion = Occlusion(model)\n",
    "\n",
    "attributions = gradcam.attribute(errore_img, target=errore_label)\n",
    "upsampled_attr = LayerAttribution.interpolate(attributions, errore_img.shape[2:])\n",
    "show_saliency_on_image(errore_img, upsampled_attr, title=f\"Grad-CAM (Predetto {errore_pred}, Reale {errore_label})\")\n",
    "\n",
    "attr_occ = occlusion.attribute(\n",
    "    errore_img,\n",
    "    strides=(3, 8, 8),\n",
    "    target=errore_label,\n",
    "    sliding_window_shapes=(3, 15, 15)\n",
    ")\n",
    "show_saliency_on_image(errore_img, attr_occ, title=f\"Occlusion (Predetto {errore_pred}, Reale {errore_label})\")"
   ]
  }
 ],
 "metadata": {
  "language_info": {
   "name": "python"
  }
 },
 "nbformat": 4,
 "nbformat_minor": 2
}
