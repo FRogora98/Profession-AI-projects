{
 "cells": [
  {
   "cell_type": "code",
   "execution_count": null,
   "metadata": {
    "vscode": {
     "languageId": "plaintext"
    }
   },
   "outputs": [],
   "source": [
    "class Contact:\n",
    "    def __init__(self, first_name, last_name, phone, email):\n",
    "        self.first_name = first_name\n",
    "        self.last_name = last_name\n",
    "        self.phone = phone\n",
    "        self.email = email\n",
    "\n",
    "    def __str__(self):\n",
    "        return f\"{self.first_name} {self.last_name} - {self.phone}, {self.email}\""
   ]
  },
  {
   "cell_type": "code",
   "execution_count": null,
   "metadata": {
    "vscode": {
     "languageId": "plaintext"
    }
   },
   "outputs": [],
   "source": [
    "import json\n",
    "\n",
    "class ContactManager:\n",
    "    def __init__(self):\n",
    "        self.contacts = []\n",
    "\n",
    "    def add_contact(self, first_name, last_name, phone, email):\n",
    "        contact = Contact(first_name, last_name, phone, email)\n",
    "        self.contacts.append(contact)\n",
    "\n",
    "    def display_contacts(self):\n",
    "        if not self.contacts:\n",
    "            print(\"Nessun contatto trovato.\")\n",
    "        for idx, contact in enumerate(self.contacts, start=1):\n",
    "            print(f\"{idx}. {contact}\")\n",
    "\n",
    "    def find_contact(self, search_term):\n",
    "        found_contacts = [contact for contact in self.contacts if search_term.lower() in contact.first_name.lower() or search_term.lower() in contact.last_name.lower()]\n",
    "        return found_contacts\n",
    "\n",
    "    def delete_contact(self, index):\n",
    "        if 0 <= index < len(self.contacts):\n",
    "            self.contacts.pop(index)\n",
    "        else:\n",
    "            print(\"Contatto non trovato.\")\n",
    "\n",
    "    def modify_contact(self, index, first_name=None, last_name=None, phone=None, email=None):\n",
    "        if 0 <= index < len(self.contacts):\n",
    "            if first_name: self.contacts[index].first_name = first_name\n",
    "            if last_name: self.contacts[index].last_name = last_name\n",
    "            if phone: self.contacts[index].phone = phone\n",
    "            if email: self.contacts[index].email = email\n",
    "        else:\n",
    "            print(\"Contatto non trovato.\")\n",
    "\n",
    "    def save_to_file(self, filename):\n",
    "        data = [{'first_name': c.first_name, 'last_name': c.last_name, 'phone': c.phone, 'email': c.email} for c in self.contacts]\n",
    "        with open(filename, 'w') as file:\n",
    "            json.dump(data, file)\n",
    "\n",
    "    def load_from_file(self, filename):\n",
    "        try:\n",
    "            with open(filename, 'r') as file:\n",
    "                data = json.load(file)\n",
    "                self.contacts = [Contact(**contact) for contact in data]\n",
    "        except FileNotFoundError:\n",
    "            print(\"File non trovato. Creazione di un nuovo file.\")\n",
    "            "
   ]
  },
  {
   "cell_type": "code",
   "execution_count": null,
   "metadata": {
    "vscode": {
     "languageId": "plaintext"
    }
   },
   "outputs": [],
   "source": [
    "def main_menu():\n",
    "    manager = ContactManager()\n",
    "    manager.load_from_file('contacts.json')\n",
    "\n",
    "    while True:\n",
    "        print(\"\\n--- Menu Principale ---\")\n",
    "        print(\"1. Aggiungi Contatto\")\n",
    "        print(\"2. Visualizza Contatti\")\n",
    "        print(\"3. Cerca Contatto\")\n",
    "        print(\"4. Modifica Contatto\")\n",
    "        print(\"5. Elimina Contatto\")\n",
    "        print(\"6. Salva e Esci\")\n",
    "\n",
    "        choice = input(\"Scegli un'opzione: \")\n",
    "\n",
    "        if choice == '1':\n",
    "            first_name = input(\"Nome: \")\n",
    "            last_name = input(\"Cognome: \")\n",
    "            phone = input(\"Numero di telefono: \")\n",
    "            email = input(\"Email: \")\n",
    "            manager.add_contact(first_name, last_name, phone, email)\n",
    "\n",
    "        elif choice == '2':\n",
    "            manager.display_contacts()\n",
    "\n",
    "        elif choice == '3':\n",
    "            search_term = input(\"Inserisci il nome o il cognome da cercare: \")\n",
    "            results = manager.find_contact(search_term)\n",
    "            for idx, contact in enumerate(results, start=1):\n",
    "                print(f\"{idx}. {contact}\")\n",
    "\n",
    "        elif choice == '4':\n",
    "            manager.display_contacts()\n",
    "            index = int(input(\"Seleziona il contatto da modificare (numero): \")) - 1\n",
    "            first_name = input(\"Nuovo nome (lascia vuoto per non cambiare): \")\n",
    "            last_name = input(\"Nuovo cognome (lascia vuoto per non cambiare): \")\n",
    "            phone = input(\"Nuovo numero di telefono (lascia vuoto per non cambiare): \")\n",
    "            email = input(\"Nuova email (lascia vuoto per non cambiare): \")\n",
    "            manager.modify_contact(index, first_name, last_name, phone, email)\n",
    "\n",
    "        elif choice == '5':\n",
    "            manager.display_contacts()\n",
    "            index = int(input(\"Seleziona il contatto da eliminare (numero): \")) - 1\n",
    "            manager.delete_contact(index)\n",
    "\n",
    "        elif choice == '6':\n",
    "            manager.save_to_file('contacts.json')\n",
    "            print(\"Contatti salvati. Uscita.\")\n",
    "            break\n",
    "\n",
    "        else:\n",
    "            print(\"Opzione non valida. Riprova.\")\n",
    "\n",
    "if __name__ == \"__main__\":\n",
    "    main_menu()"
   ]
  }
 ],
 "metadata": {
  "language_info": {
   "name": "python"
  }
 },
 "nbformat": 4,
 "nbformat_minor": 2
}
